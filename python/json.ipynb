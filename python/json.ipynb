{
 "cells": [
  {
   "cell_type": "code",
   "execution_count": 4,
   "metadata": {},
   "outputs": [
    {
     "output_type": "stream",
     "name": "stdout",
     "text": [
      "c:\\Travail\\CNRS_mycore\\Cours\\Cours_M2_python\\Web_cours_2\n"
     ]
    }
   ],
   "source": [
    "    print(os.getcwd())\n"
   ]
  },
  {
   "cell_type": "code",
   "execution_count": 8,
   "metadata": {},
   "outputs": [
    {
     "output_type": "stream",
     "name": "stdout",
     "text": [
      "c:\\Travail\\CNRS_mycore\\Cours\\Cours_M2_python\\Web_cours_2\n"
     ]
    }
   ],
   "source": [
    "# If you need to be in your working directory, do this\n",
    "os.chdir(\"c:\\Travail\\CNRS_mycore\\Cours\\Cours_M2_python\\Web_cours_2\")\n",
    "print(os.getcwd())"
   ]
  },
  {
   "cell_type": "code",
   "execution_count": 4,
   "metadata": {},
   "outputs": [],
   "source": [
    "import pandas as pd\n",
    "df = pd.read_excel(\"C:\\Travail\\CNRS_mycore\\Cours\\Cours_M2_python\\Projet_Arctox\\data for analyses_2010_2011_analyses.xls\",sheet_name = \"data for analyses_2010_2011_ana\")\n"
   ]
  },
  {
   "cell_type": "code",
   "execution_count": 5,
   "metadata": {},
   "outputs": [
    {
     "output_type": "stream",
     "name": "stdout",
     "text": [
      " * Serving Flask app \"__main__\" (lazy loading)\n",
      " * Environment: production\n",
      "   WARNING: This is a development server. Do not use it in a production deployment.\n",
      "   Use a production WSGI server instead.\n",
      " * Debug mode: off\n",
      " * Running on http://127.0.0.1:5050/ (Press CTRL+C to quit)\n",
      "127.0.0.1 - - [14/Oct/2020 14:19:00] \"\u001b[37mGET /alldata/ HTTP/1.1\u001b[0m\" 200 -\n",
      "127.0.0.1 - - [14/Oct/2020 15:14:35] \"\u001b[37mGET / HTTP/1.1\u001b[0m\" 200 -\n",
      "127.0.0.1 - - [14/Oct/2020 15:14:35] \"\u001b[33mGET /favicon.ico HTTP/1.1\u001b[0m\" 404 -\n",
      "127.0.0.1 - - [14/Oct/2020 15:14:43] \"\u001b[37mGET /alldata/ HTTP/1.1\u001b[0m\" 200 -\n",
      "127.0.0.1 - - [14/Oct/2020 16:47:49] \"\u001b[37mGET / HTTP/1.1\u001b[0m\" 200 -\n",
      "127.0.0.1 - - [14/Oct/2020 16:47:55] \"\u001b[33mGET /bokeh HTTP/1.1\u001b[0m\" 404 -\n",
      "127.0.0.1 - - [14/Oct/2020 16:48:29] \"\u001b[37mGET / HTTP/1.1\u001b[0m\" 200 -\n",
      "127.0.0.1 - - [14/Oct/2020 16:48:49] \"\u001b[37mGET / HTTP/1.1\u001b[0m\" 200 -\n",
      "127.0.0.1 - - [14/Oct/2020 17:02:41] \"\u001b[33mGET /bokeh HTTP/1.1\u001b[0m\" 404 -\n",
      "127.0.0.1 - - [14/Oct/2020 17:03:28] \"\u001b[33mGET /bokeh HTTP/1.1\u001b[0m\" 404 -\n",
      "127.0.0.1 - - [14/Oct/2020 17:03:33] \"\u001b[33mGET /bokeh/ HTTP/1.1\u001b[0m\" 404 -\n",
      "127.0.0.1 - - [14/Oct/2020 17:03:55] \"\u001b[33mGET /bokeh HTTP/1.1\u001b[0m\" 404 -\n",
      "127.0.0.1 - - [14/Oct/2020 17:04:01] \"\u001b[33mGET /bokeh HTTP/1.1\u001b[0m\" 404 -\n"
     ]
    }
   ],
   "source": [
    "import pandas as pd\n",
    "import json\n",
    "\n",
    "from flask import Flask\n",
    "app = Flask(__name__)\n",
    "\n",
    "@app.route('/')\n",
    "def hello_world():\n",
    "    return 'Hello, World!'\n",
    "\n",
    "@app.route('/alldata/')\n",
    "def getAlldata():\n",
    "    ## On my laptop, data are in C:\\Travail\\CNRS_mycore\\Cours\\Cours_M2_python\\Projet_Arctox\n",
    "    \n",
    "    # \"C:\\Travail\\CNRS_mycore\\Cours\\Cours_M2_python\\Projet_Arctox\\data for analyses_2010_2011_analyses.xls\"\n",
    "    df = pd.read_excel(\"C:\\Travail\\CNRS_mycore\\Cours\\Cours_M2_python\\Projet_Arctox\\data for analyses_2010_2011_analyses.xls\",sheet_name = \"data for analyses_2010_2011_ana\")\n",
    "    #df = pd.read_excel(\"data_for_analyses_2010_2011_analyses.xls\",sheet_name = 'analyses_2010_2011')\n",
    "    #print (df)\n",
    "    #jsonx = df.to_json(orient='records')\n",
    "    #print(type(jsonx))\n",
    "    #print(jsonx)\n",
    "    #json.dumps(jsonx)\n",
    "    json_str = json.dumps(df.to_json(orient='records'))\n",
    "    return json.loads(json_str)\n",
    "\n",
    "if __name__ == '__main__':\n",
    "    app.run(port=5050) # Permet de lancer le serveur directement depuis python en exécutant le programme"
   ]
  },
  {
   "cell_type": "code",
   "execution_count": null,
   "metadata": {},
   "outputs": [],
   "source": []
  }
 ],
 "metadata": {
  "kernelspec": {
   "display_name": "Python 3",
   "language": "python",
   "name": "python3"
  },
  "language_info": {
   "codemirror_mode": {
    "name": "ipython",
    "version": 3
   },
   "file_extension": ".py",
   "mimetype": "text/x-python",
   "name": "python",
   "nbconvert_exporter": "python",
   "pygments_lexer": "ipython3",
   "version": "3.7.6-final"
  }
 },
 "nbformat": 4,
 "nbformat_minor": 4
}